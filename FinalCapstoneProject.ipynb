{
 "cells": [
  {
   "cell_type": "code",
   "execution_count": 1,
   "metadata": {},
   "outputs": [],
   "source": [
    "#Importing Libraries\n",
    "import numpy as np\n",
    "import pandas as pd\n",
    "import matplotlib.pyplot as plt \n",
    "%matplotlib inline\n",
    "import sklearn\n",
    "np.random.seed(42)\n",
    "\n",
    "import tensorflow as tf\n",
    "from tensorflow import keras\n",
    "tf.random.set_seed(42)"
   ]
  },
  {
   "cell_type": "code",
   "execution_count": 2,
   "metadata": {},
   "outputs": [],
   "source": [
    "#Converting dataset into DataFrame\n",
    "carsData = pd.read_csv(\"carsData/cardekho.csv\")"
   ]
  },
  {
   "cell_type": "code",
   "execution_count": 3,
   "metadata": {},
   "outputs": [
    {
     "name": "stdout",
     "output_type": "stream",
     "text": [
      "<class 'pandas.core.frame.DataFrame'>\n",
      "RangeIndex: 8128 entries, 0 to 8127\n",
      "Data columns (total 12 columns):\n",
      " #   Column              Non-Null Count  Dtype  \n",
      "---  ------              --------------  -----  \n",
      " 0   name                8128 non-null   object \n",
      " 1   year                8128 non-null   int64  \n",
      " 2   selling_price       8128 non-null   int64  \n",
      " 3   km_driven           8128 non-null   int64  \n",
      " 4   fuel                8128 non-null   object \n",
      " 5   seller_type         8128 non-null   object \n",
      " 6   transmission        8128 non-null   object \n",
      " 7   owner               8128 non-null   object \n",
      " 8   mileage(km/ltr/kg)  7907 non-null   float64\n",
      " 9   engine              7907 non-null   float64\n",
      " 10  max_power           7913 non-null   object \n",
      " 11  seats               7907 non-null   float64\n",
      "dtypes: float64(3), int64(3), object(6)\n",
      "memory usage: 762.1+ KB\n"
     ]
    }
   ],
   "source": [
    "#Analysing the Data\n",
    "carsData.info()"
   ]
  },
  {
   "cell_type": "code",
   "execution_count": 4,
   "metadata": {},
   "outputs": [
    {
     "data": {
      "text/html": [
       "<div>\n",
       "<style scoped>\n",
       "    .dataframe tbody tr th:only-of-type {\n",
       "        vertical-align: middle;\n",
       "    }\n",
       "\n",
       "    .dataframe tbody tr th {\n",
       "        vertical-align: top;\n",
       "    }\n",
       "\n",
       "    .dataframe thead th {\n",
       "        text-align: right;\n",
       "    }\n",
       "</style>\n",
       "<table border=\"1\" class=\"dataframe\">\n",
       "  <thead>\n",
       "    <tr style=\"text-align: right;\">\n",
       "      <th></th>\n",
       "      <th>name</th>\n",
       "      <th>year</th>\n",
       "      <th>selling_price</th>\n",
       "      <th>km_driven</th>\n",
       "      <th>fuel</th>\n",
       "      <th>seller_type</th>\n",
       "      <th>transmission</th>\n",
       "      <th>owner</th>\n",
       "      <th>mileage(km/ltr/kg)</th>\n",
       "      <th>engine</th>\n",
       "      <th>max_power</th>\n",
       "      <th>seats</th>\n",
       "    </tr>\n",
       "  </thead>\n",
       "  <tbody>\n",
       "    <tr>\n",
       "      <th>0</th>\n",
       "      <td>Maruti Swift Dzire VDI</td>\n",
       "      <td>2014</td>\n",
       "      <td>450000</td>\n",
       "      <td>145500</td>\n",
       "      <td>Diesel</td>\n",
       "      <td>Individual</td>\n",
       "      <td>Manual</td>\n",
       "      <td>First Owner</td>\n",
       "      <td>23.40</td>\n",
       "      <td>1248.0</td>\n",
       "      <td>74</td>\n",
       "      <td>5.0</td>\n",
       "    </tr>\n",
       "    <tr>\n",
       "      <th>1</th>\n",
       "      <td>Skoda Rapid 1.5 TDI Ambition</td>\n",
       "      <td>2014</td>\n",
       "      <td>370000</td>\n",
       "      <td>120000</td>\n",
       "      <td>Diesel</td>\n",
       "      <td>Individual</td>\n",
       "      <td>Manual</td>\n",
       "      <td>Second Owner</td>\n",
       "      <td>21.14</td>\n",
       "      <td>1498.0</td>\n",
       "      <td>103.52</td>\n",
       "      <td>5.0</td>\n",
       "    </tr>\n",
       "    <tr>\n",
       "      <th>2</th>\n",
       "      <td>Honda City 2017-2020 EXi</td>\n",
       "      <td>2006</td>\n",
       "      <td>158000</td>\n",
       "      <td>140000</td>\n",
       "      <td>Petrol</td>\n",
       "      <td>Individual</td>\n",
       "      <td>Manual</td>\n",
       "      <td>Third Owner</td>\n",
       "      <td>17.70</td>\n",
       "      <td>1497.0</td>\n",
       "      <td>78</td>\n",
       "      <td>5.0</td>\n",
       "    </tr>\n",
       "    <tr>\n",
       "      <th>3</th>\n",
       "      <td>Hyundai i20 Sportz Diesel</td>\n",
       "      <td>2010</td>\n",
       "      <td>225000</td>\n",
       "      <td>127000</td>\n",
       "      <td>Diesel</td>\n",
       "      <td>Individual</td>\n",
       "      <td>Manual</td>\n",
       "      <td>First Owner</td>\n",
       "      <td>23.00</td>\n",
       "      <td>1396.0</td>\n",
       "      <td>90</td>\n",
       "      <td>5.0</td>\n",
       "    </tr>\n",
       "    <tr>\n",
       "      <th>4</th>\n",
       "      <td>Maruti Swift VXI BSIII</td>\n",
       "      <td>2007</td>\n",
       "      <td>130000</td>\n",
       "      <td>120000</td>\n",
       "      <td>Petrol</td>\n",
       "      <td>Individual</td>\n",
       "      <td>Manual</td>\n",
       "      <td>First Owner</td>\n",
       "      <td>16.10</td>\n",
       "      <td>1298.0</td>\n",
       "      <td>88.2</td>\n",
       "      <td>5.0</td>\n",
       "    </tr>\n",
       "  </tbody>\n",
       "</table>\n",
       "</div>"
      ],
      "text/plain": [
       "                           name  year  selling_price  km_driven    fuel  \\\n",
       "0        Maruti Swift Dzire VDI  2014         450000     145500  Diesel   \n",
       "1  Skoda Rapid 1.5 TDI Ambition  2014         370000     120000  Diesel   \n",
       "2      Honda City 2017-2020 EXi  2006         158000     140000  Petrol   \n",
       "3     Hyundai i20 Sportz Diesel  2010         225000     127000  Diesel   \n",
       "4        Maruti Swift VXI BSIII  2007         130000     120000  Petrol   \n",
       "\n",
       "  seller_type transmission         owner  mileage(km/ltr/kg)  engine  \\\n",
       "0  Individual       Manual   First Owner               23.40  1248.0   \n",
       "1  Individual       Manual  Second Owner               21.14  1498.0   \n",
       "2  Individual       Manual   Third Owner               17.70  1497.0   \n",
       "3  Individual       Manual   First Owner               23.00  1396.0   \n",
       "4  Individual       Manual   First Owner               16.10  1298.0   \n",
       "\n",
       "  max_power  seats  \n",
       "0        74    5.0  \n",
       "1    103.52    5.0  \n",
       "2        78    5.0  \n",
       "3        90    5.0  \n",
       "4      88.2    5.0  "
      ]
     },
     "execution_count": 4,
     "metadata": {},
     "output_type": "execute_result"
    }
   ],
   "source": [
    "carsData.head()"
   ]
  },
  {
   "cell_type": "code",
   "execution_count": 5,
   "metadata": {},
   "outputs": [
    {
     "data": {
      "text/html": [
       "<div>\n",
       "<style scoped>\n",
       "    .dataframe tbody tr th:only-of-type {\n",
       "        vertical-align: middle;\n",
       "    }\n",
       "\n",
       "    .dataframe tbody tr th {\n",
       "        vertical-align: top;\n",
       "    }\n",
       "\n",
       "    .dataframe thead th {\n",
       "        text-align: right;\n",
       "    }\n",
       "</style>\n",
       "<table border=\"1\" class=\"dataframe\">\n",
       "  <thead>\n",
       "    <tr style=\"text-align: right;\">\n",
       "      <th></th>\n",
       "      <th>year</th>\n",
       "      <th>selling_price</th>\n",
       "      <th>km_driven</th>\n",
       "      <th>mileage(km/ltr/kg)</th>\n",
       "      <th>engine</th>\n",
       "      <th>seats</th>\n",
       "    </tr>\n",
       "  </thead>\n",
       "  <tbody>\n",
       "    <tr>\n",
       "      <th>count</th>\n",
       "      <td>8128.000000</td>\n",
       "      <td>8.128000e+03</td>\n",
       "      <td>8.128000e+03</td>\n",
       "      <td>7907.000000</td>\n",
       "      <td>7907.000000</td>\n",
       "      <td>7907.000000</td>\n",
       "    </tr>\n",
       "    <tr>\n",
       "      <th>mean</th>\n",
       "      <td>2013.804011</td>\n",
       "      <td>6.382718e+05</td>\n",
       "      <td>6.981951e+04</td>\n",
       "      <td>19.418783</td>\n",
       "      <td>1458.625016</td>\n",
       "      <td>5.416719</td>\n",
       "    </tr>\n",
       "    <tr>\n",
       "      <th>std</th>\n",
       "      <td>4.044249</td>\n",
       "      <td>8.062534e+05</td>\n",
       "      <td>5.655055e+04</td>\n",
       "      <td>4.037145</td>\n",
       "      <td>503.916303</td>\n",
       "      <td>0.959588</td>\n",
       "    </tr>\n",
       "    <tr>\n",
       "      <th>min</th>\n",
       "      <td>1983.000000</td>\n",
       "      <td>2.999900e+04</td>\n",
       "      <td>1.000000e+00</td>\n",
       "      <td>0.000000</td>\n",
       "      <td>624.000000</td>\n",
       "      <td>2.000000</td>\n",
       "    </tr>\n",
       "    <tr>\n",
       "      <th>25%</th>\n",
       "      <td>2011.000000</td>\n",
       "      <td>2.549990e+05</td>\n",
       "      <td>3.500000e+04</td>\n",
       "      <td>16.780000</td>\n",
       "      <td>1197.000000</td>\n",
       "      <td>5.000000</td>\n",
       "    </tr>\n",
       "    <tr>\n",
       "      <th>50%</th>\n",
       "      <td>2015.000000</td>\n",
       "      <td>4.500000e+05</td>\n",
       "      <td>6.000000e+04</td>\n",
       "      <td>19.300000</td>\n",
       "      <td>1248.000000</td>\n",
       "      <td>5.000000</td>\n",
       "    </tr>\n",
       "    <tr>\n",
       "      <th>75%</th>\n",
       "      <td>2017.000000</td>\n",
       "      <td>6.750000e+05</td>\n",
       "      <td>9.800000e+04</td>\n",
       "      <td>22.320000</td>\n",
       "      <td>1582.000000</td>\n",
       "      <td>5.000000</td>\n",
       "    </tr>\n",
       "    <tr>\n",
       "      <th>max</th>\n",
       "      <td>2020.000000</td>\n",
       "      <td>1.000000e+07</td>\n",
       "      <td>2.360457e+06</td>\n",
       "      <td>42.000000</td>\n",
       "      <td>3604.000000</td>\n",
       "      <td>14.000000</td>\n",
       "    </tr>\n",
       "  </tbody>\n",
       "</table>\n",
       "</div>"
      ],
      "text/plain": [
       "              year  selling_price     km_driven  mileage(km/ltr/kg)  \\\n",
       "count  8128.000000   8.128000e+03  8.128000e+03         7907.000000   \n",
       "mean   2013.804011   6.382718e+05  6.981951e+04           19.418783   \n",
       "std       4.044249   8.062534e+05  5.655055e+04            4.037145   \n",
       "min    1983.000000   2.999900e+04  1.000000e+00            0.000000   \n",
       "25%    2011.000000   2.549990e+05  3.500000e+04           16.780000   \n",
       "50%    2015.000000   4.500000e+05  6.000000e+04           19.300000   \n",
       "75%    2017.000000   6.750000e+05  9.800000e+04           22.320000   \n",
       "max    2020.000000   1.000000e+07  2.360457e+06           42.000000   \n",
       "\n",
       "            engine        seats  \n",
       "count  7907.000000  7907.000000  \n",
       "mean   1458.625016     5.416719  \n",
       "std     503.916303     0.959588  \n",
       "min     624.000000     2.000000  \n",
       "25%    1197.000000     5.000000  \n",
       "50%    1248.000000     5.000000  \n",
       "75%    1582.000000     5.000000  \n",
       "max    3604.000000    14.000000  "
      ]
     },
     "execution_count": 5,
     "metadata": {},
     "output_type": "execute_result"
    }
   ],
   "source": [
    "carsData.describe()"
   ]
  },
  {
   "cell_type": "code",
   "execution_count": 6,
   "metadata": {
    "scrolled": true
   },
   "outputs": [
    {
     "data": {
      "text/plain": [
       "array(['Maruti', 'Skoda', 'Honda', 'Hyundai', 'Toyota', 'Ford', 'Renault',\n",
       "       'Mahindra', 'Tata', 'Chevrolet', 'Fiat', 'Datsun', 'Jeep',\n",
       "       'Mercedes-Benz', 'Mitsubishi', 'Audi', 'Volkswagen', 'BMW',\n",
       "       'Nissan', 'Lexus', 'Jaguar', 'Land', 'MG', 'Volvo', 'Daewoo',\n",
       "       'Kia', 'Force', 'Ambassador', 'Ashok', 'Isuzu', 'Opel', 'Peugeot'],\n",
       "      dtype=object)"
      ]
     },
     "execution_count": 6,
     "metadata": {},
     "output_type": "execute_result"
    }
   ],
   "source": [
    "#Extracting Brandname instead of exact car model for reducing the no. of columns\n",
    "def BrandName(s):\n",
    "    return s.split()[0] if isinstance(s, str) else s\n",
    "carsData[\"name\"] = carsData[\"name\"].apply(BrandName)\n",
    "carsData.head()\n",
    "carsData[\"name\"].unique()"
   ]
  },
  {
   "cell_type": "code",
   "execution_count": 7,
   "metadata": {},
   "outputs": [
    {
     "name": "stdout",
     "output_type": "stream",
     "text": [
      "<class 'pandas.core.frame.DataFrame'>\n",
      "RangeIndex: 7907 entries, 0 to 7906\n",
      "Data columns (total 12 columns):\n",
      " #   Column              Non-Null Count  Dtype  \n",
      "---  ------              --------------  -----  \n",
      " 0   name                7907 non-null   object \n",
      " 1   year                7907 non-null   int64  \n",
      " 2   selling_price       7907 non-null   int64  \n",
      " 3   km_driven           7907 non-null   int64  \n",
      " 4   fuel                7907 non-null   object \n",
      " 5   seller_type         7907 non-null   object \n",
      " 6   transmission        7907 non-null   object \n",
      " 7   owner               7907 non-null   object \n",
      " 8   mileage(km/ltr/kg)  7907 non-null   float64\n",
      " 9   engine              7907 non-null   float64\n",
      " 10  max_power           7907 non-null   object \n",
      " 11  seats               7907 non-null   float64\n",
      "dtypes: float64(3), int64(3), object(6)\n",
      "memory usage: 741.4+ KB\n"
     ]
    }
   ],
   "source": [
    "#Dropping null values and reseting the indexes\n",
    "carsData.dropna(inplace=True)\n",
    "carsData.reset_index(drop=True, inplace=True)\n",
    "carsData.info()"
   ]
  },
  {
   "cell_type": "code",
   "execution_count": 8,
   "metadata": {},
   "outputs": [
    {
     "name": "stdout",
     "output_type": "stream",
     "text": [
      "<class 'pandas.core.frame.DataFrame'>\n",
      "RangeIndex: 7907 entries, 0 to 7906\n",
      "Data columns (total 12 columns):\n",
      " #   Column              Non-Null Count  Dtype  \n",
      "---  ------              --------------  -----  \n",
      " 0   name                7907 non-null   object \n",
      " 1   year                7907 non-null   int64  \n",
      " 2   selling_price       7907 non-null   int64  \n",
      " 3   km_driven           7907 non-null   int64  \n",
      " 4   fuel                7907 non-null   object \n",
      " 5   seller_type         7907 non-null   object \n",
      " 6   transmission        7907 non-null   object \n",
      " 7   owner               7907 non-null   object \n",
      " 8   mileage(km/ltr/kg)  7907 non-null   float64\n",
      " 9   engine              7907 non-null   float64\n",
      " 10  max_power           7907 non-null   float64\n",
      " 11  seats               7907 non-null   float64\n",
      "dtypes: float64(4), int64(3), object(5)\n",
      "memory usage: 741.4+ KB\n"
     ]
    }
   ],
   "source": [
    "#Converting max_power into a float type as it was string type\n",
    "for col in carsData.select_dtypes(include=['object']).columns:\n",
    "    carsData[col] = carsData[col].replace(' ', \"0.0\")\n",
    "carsData[\"max_power\"] = carsData[\"max_power\"].astype(float)\n",
    "carsData.info()"
   ]
  },
  {
   "cell_type": "code",
   "execution_count": 9,
   "metadata": {},
   "outputs": [
    {
     "data": {
      "text/html": [
       "<div>\n",
       "<style scoped>\n",
       "    .dataframe tbody tr th:only-of-type {\n",
       "        vertical-align: middle;\n",
       "    }\n",
       "\n",
       "    .dataframe tbody tr th {\n",
       "        vertical-align: top;\n",
       "    }\n",
       "\n",
       "    .dataframe thead th {\n",
       "        text-align: right;\n",
       "    }\n",
       "</style>\n",
       "<table border=\"1\" class=\"dataframe\">\n",
       "  <thead>\n",
       "    <tr style=\"text-align: right;\">\n",
       "      <th></th>\n",
       "      <th>year</th>\n",
       "      <th>selling_price</th>\n",
       "      <th>km_driven</th>\n",
       "      <th>mileage(km/ltr/kg)</th>\n",
       "      <th>engine</th>\n",
       "      <th>max_power</th>\n",
       "      <th>seats</th>\n",
       "      <th>name_Ambassador</th>\n",
       "      <th>name_Ashok</th>\n",
       "      <th>name_Audi</th>\n",
       "      <th>...</th>\n",
       "      <th>seller_type_Dealer</th>\n",
       "      <th>seller_type_Individual</th>\n",
       "      <th>seller_type_Trustmark Dealer</th>\n",
       "      <th>transmission_Automatic</th>\n",
       "      <th>transmission_Manual</th>\n",
       "      <th>owner_First Owner</th>\n",
       "      <th>owner_Fourth &amp; Above Owner</th>\n",
       "      <th>owner_Second Owner</th>\n",
       "      <th>owner_Test Drive Car</th>\n",
       "      <th>owner_Third Owner</th>\n",
       "    </tr>\n",
       "  </thead>\n",
       "  <tbody>\n",
       "    <tr>\n",
       "      <th>0</th>\n",
       "      <td>2014</td>\n",
       "      <td>450000</td>\n",
       "      <td>145500</td>\n",
       "      <td>23.40</td>\n",
       "      <td>1248.0</td>\n",
       "      <td>74.00</td>\n",
       "      <td>5.0</td>\n",
       "      <td>0</td>\n",
       "      <td>0</td>\n",
       "      <td>0</td>\n",
       "      <td>...</td>\n",
       "      <td>0</td>\n",
       "      <td>1</td>\n",
       "      <td>0</td>\n",
       "      <td>0</td>\n",
       "      <td>1</td>\n",
       "      <td>1</td>\n",
       "      <td>0</td>\n",
       "      <td>0</td>\n",
       "      <td>0</td>\n",
       "      <td>0</td>\n",
       "    </tr>\n",
       "    <tr>\n",
       "      <th>1</th>\n",
       "      <td>2014</td>\n",
       "      <td>370000</td>\n",
       "      <td>120000</td>\n",
       "      <td>21.14</td>\n",
       "      <td>1498.0</td>\n",
       "      <td>103.52</td>\n",
       "      <td>5.0</td>\n",
       "      <td>0</td>\n",
       "      <td>0</td>\n",
       "      <td>0</td>\n",
       "      <td>...</td>\n",
       "      <td>0</td>\n",
       "      <td>1</td>\n",
       "      <td>0</td>\n",
       "      <td>0</td>\n",
       "      <td>1</td>\n",
       "      <td>0</td>\n",
       "      <td>0</td>\n",
       "      <td>1</td>\n",
       "      <td>0</td>\n",
       "      <td>0</td>\n",
       "    </tr>\n",
       "    <tr>\n",
       "      <th>2</th>\n",
       "      <td>2006</td>\n",
       "      <td>158000</td>\n",
       "      <td>140000</td>\n",
       "      <td>17.70</td>\n",
       "      <td>1497.0</td>\n",
       "      <td>78.00</td>\n",
       "      <td>5.0</td>\n",
       "      <td>0</td>\n",
       "      <td>0</td>\n",
       "      <td>0</td>\n",
       "      <td>...</td>\n",
       "      <td>0</td>\n",
       "      <td>1</td>\n",
       "      <td>0</td>\n",
       "      <td>0</td>\n",
       "      <td>1</td>\n",
       "      <td>0</td>\n",
       "      <td>0</td>\n",
       "      <td>0</td>\n",
       "      <td>0</td>\n",
       "      <td>1</td>\n",
       "    </tr>\n",
       "    <tr>\n",
       "      <th>3</th>\n",
       "      <td>2010</td>\n",
       "      <td>225000</td>\n",
       "      <td>127000</td>\n",
       "      <td>23.00</td>\n",
       "      <td>1396.0</td>\n",
       "      <td>90.00</td>\n",
       "      <td>5.0</td>\n",
       "      <td>0</td>\n",
       "      <td>0</td>\n",
       "      <td>0</td>\n",
       "      <td>...</td>\n",
       "      <td>0</td>\n",
       "      <td>1</td>\n",
       "      <td>0</td>\n",
       "      <td>0</td>\n",
       "      <td>1</td>\n",
       "      <td>1</td>\n",
       "      <td>0</td>\n",
       "      <td>0</td>\n",
       "      <td>0</td>\n",
       "      <td>0</td>\n",
       "    </tr>\n",
       "    <tr>\n",
       "      <th>4</th>\n",
       "      <td>2007</td>\n",
       "      <td>130000</td>\n",
       "      <td>120000</td>\n",
       "      <td>16.10</td>\n",
       "      <td>1298.0</td>\n",
       "      <td>88.20</td>\n",
       "      <td>5.0</td>\n",
       "      <td>0</td>\n",
       "      <td>0</td>\n",
       "      <td>0</td>\n",
       "      <td>...</td>\n",
       "      <td>0</td>\n",
       "      <td>1</td>\n",
       "      <td>0</td>\n",
       "      <td>0</td>\n",
       "      <td>1</td>\n",
       "      <td>1</td>\n",
       "      <td>0</td>\n",
       "      <td>0</td>\n",
       "      <td>0</td>\n",
       "      <td>0</td>\n",
       "    </tr>\n",
       "  </tbody>\n",
       "</table>\n",
       "<p>5 rows × 52 columns</p>\n",
       "</div>"
      ],
      "text/plain": [
       "   year  selling_price  km_driven  mileage(km/ltr/kg)  engine  max_power  \\\n",
       "0  2014         450000     145500               23.40  1248.0      74.00   \n",
       "1  2014         370000     120000               21.14  1498.0     103.52   \n",
       "2  2006         158000     140000               17.70  1497.0      78.00   \n",
       "3  2010         225000     127000               23.00  1396.0      90.00   \n",
       "4  2007         130000     120000               16.10  1298.0      88.20   \n",
       "\n",
       "   seats  name_Ambassador  name_Ashok  name_Audi  ...  seller_type_Dealer  \\\n",
       "0    5.0                0           0          0  ...                   0   \n",
       "1    5.0                0           0          0  ...                   0   \n",
       "2    5.0                0           0          0  ...                   0   \n",
       "3    5.0                0           0          0  ...                   0   \n",
       "4    5.0                0           0          0  ...                   0   \n",
       "\n",
       "   seller_type_Individual  seller_type_Trustmark Dealer  \\\n",
       "0                       1                             0   \n",
       "1                       1                             0   \n",
       "2                       1                             0   \n",
       "3                       1                             0   \n",
       "4                       1                             0   \n",
       "\n",
       "   transmission_Automatic  transmission_Manual  owner_First Owner  \\\n",
       "0                       0                    1                  1   \n",
       "1                       0                    1                  0   \n",
       "2                       0                    1                  0   \n",
       "3                       0                    1                  1   \n",
       "4                       0                    1                  1   \n",
       "\n",
       "   owner_Fourth & Above Owner  owner_Second Owner  owner_Test Drive Car  \\\n",
       "0                           0                   0                     0   \n",
       "1                           0                   1                     0   \n",
       "2                           0                   0                     0   \n",
       "3                           0                   0                     0   \n",
       "4                           0                   0                     0   \n",
       "\n",
       "   owner_Third Owner  \n",
       "0                  0  \n",
       "1                  0  \n",
       "2                  1  \n",
       "3                  0  \n",
       "4                  0  \n",
       "\n",
       "[5 rows x 52 columns]"
      ]
     },
     "execution_count": 9,
     "metadata": {},
     "output_type": "execute_result"
    }
   ],
   "source": [
    "#Converting categorical attributes to numerical attributes for making it algorithm compatible\n",
    "catAttributes = [\"name\", \"fuel\", \"seller_type\", \"transmission\",\"owner\"] \n",
    "carsDataEncoded = pd.get_dummies(carsData,columns = catAttributes)\n",
    "carsDataEncoded.head()"
   ]
  },
  {
   "cell_type": "code",
   "execution_count": 10,
   "metadata": {
    "scrolled": true
   },
   "outputs": [
    {
     "data": {
      "text/plain": [
       "max_power                 0.749566\n",
       "transmission_Automatic    0.590279\n",
       "name_BMW                  0.530167\n",
       "engine                    0.455734\n",
       "year                      0.412268\n",
       "seller_type_Dealer        0.401822\n",
       "name_Lexus                0.363535\n",
       "name_Volvo                0.297987\n",
       "name_Jaguar               0.265111\n",
       "Name: selling_price, dtype: float64"
      ]
     },
     "execution_count": 10,
     "metadata": {},
     "output_type": "execute_result"
    }
   ],
   "source": [
    "#Calculating Correlation matrix and viewing correlation for label(\"selling_price\") for Data Insights\n",
    "carsDataEncoded.corr()[\"selling_price\"].sort_values(ascending = False)[1:10]"
   ]
  },
  {
   "cell_type": "code",
   "execution_count": 11,
   "metadata": {},
   "outputs": [],
   "source": [
    "#Spliting the training and testing data\n",
    "from sklearn.model_selection import train_test_split\n",
    "trainData, testData = train_test_split(carsDataEncoded, test_size = 0.2, random_state = 42)\n",
    "\n",
    "trainingData = trainData.drop(\"selling_price\", axis = 1)\n",
    "trainingLabels = trainData[\"selling_price\"].copy()\n",
    "testingData = testData.drop(\"selling_price\", axis = 1)\n",
    "testingLabels = testData[\"selling_price\"].copy()"
   ]
  },
  {
   "cell_type": "code",
   "execution_count": 12,
   "metadata": {},
   "outputs": [
    {
     "data": {
      "text/plain": [
       "LinearRegression(copy_X=True, fit_intercept=True, n_jobs=None, normalize=False)"
      ]
     },
     "execution_count": 12,
     "metadata": {},
     "output_type": "execute_result"
    }
   ],
   "source": [
    "#Linear Regression Model\n",
    "from sklearn.linear_model import LinearRegression\n",
    "linearModel = LinearRegression()\n",
    "linearModel.fit(trainingData,trainingLabels)"
   ]
  },
  {
   "cell_type": "code",
   "execution_count": 13,
   "metadata": {},
   "outputs": [
    {
     "name": "stdout",
     "output_type": "stream",
     "text": [
      "292495.5373488878\n"
     ]
    }
   ],
   "source": [
    "from sklearn.metrics import mean_squared_error\n",
    "linearTestPreds = linearModel.predict(testingData)\n",
    "linearMSE = mean_squared_error(linearTestPreds, testingLabels)\n",
    "print(np.sqrt(linearMSE))"
   ]
  },
  {
   "cell_type": "code",
   "execution_count": 14,
   "metadata": {},
   "outputs": [
    {
     "name": "stderr",
     "output_type": "stream",
     "text": [
      "/usr/local/anaconda/envs/tensorflow2/lib/python3.6/site-packages/sklearn/linear_model/_coordinate_descent.py:476: ConvergenceWarning: Objective did not converge. You might want to increase the number of iterations. Duality gap: 56032154165659.375, tolerance: 404996889271.584\n",
      "  positive)\n"
     ]
    },
    {
     "data": {
      "text/plain": [
       "Lasso(alpha=1, copy_X=True, fit_intercept=True, max_iter=1000, normalize=False,\n",
       "      positive=False, precompute=False, random_state=42, selection='cyclic',\n",
       "      tol=0.0001, warm_start=False)"
      ]
     },
     "execution_count": 14,
     "metadata": {},
     "output_type": "execute_result"
    }
   ],
   "source": [
    "#Linear Regression model with regularization(Lasso Regression)\n",
    "from sklearn.linear_model import Lasso\n",
    "lassoModel = Lasso(alpha = 1, max_iter = 1000, random_state = 42)\n",
    "lassoModel.fit(trainingData,trainingLabels)"
   ]
  },
  {
   "cell_type": "code",
   "execution_count": 15,
   "metadata": {},
   "outputs": [
    {
     "name": "stdout",
     "output_type": "stream",
     "text": [
      "292233.13951771904\n"
     ]
    }
   ],
   "source": [
    "lassoTestPreds = lassoModel.predict(testingData)\n",
    "lassoMSE = mean_squared_error(lassoTestPreds, testingLabels)\n",
    "print(np.sqrt(lassoMSE))"
   ]
  },
  {
   "cell_type": "code",
   "execution_count": 16,
   "metadata": {},
   "outputs": [
    {
     "data": {
      "text/plain": [
       "DecisionTreeRegressor(ccp_alpha=0.0, criterion='mse', max_depth=12,\n",
       "                      max_features=None, max_leaf_nodes=None,\n",
       "                      min_impurity_decrease=0.0, min_impurity_split=None,\n",
       "                      min_samples_leaf=1, min_samples_split=2,\n",
       "                      min_weight_fraction_leaf=0.0, presort='deprecated',\n",
       "                      random_state=42, splitter='best')"
      ]
     },
     "execution_count": 16,
     "metadata": {},
     "output_type": "execute_result"
    }
   ],
   "source": [
    "#Decision Tree Model\n",
    "from sklearn.tree import DecisionTreeRegressor\n",
    "treeModel = DecisionTreeRegressor(max_depth = 12, random_state = 42)\n",
    "treeModel.fit(trainingData,trainingLabels)"
   ]
  },
  {
   "cell_type": "code",
   "execution_count": 17,
   "metadata": {},
   "outputs": [
    {
     "name": "stdout",
     "output_type": "stream",
     "text": [
      "136703.434401964\n"
     ]
    }
   ],
   "source": [
    "treeTestPreds = treeModel.predict(testingData)\n",
    "treeMSE = mean_squared_error(treeTestPreds, testingLabels)\n",
    "print(np.sqrt(treeMSE))"
   ]
  },
  {
   "cell_type": "code",
   "execution_count": 18,
   "metadata": {},
   "outputs": [
    {
     "data": {
      "text/plain": [
       "RandomForestRegressor(bootstrap=True, ccp_alpha=0.0, criterion='mse',\n",
       "                      max_depth=15, max_features='auto', max_leaf_nodes=None,\n",
       "                      max_samples=None, min_impurity_decrease=0.0,\n",
       "                      min_impurity_split=None, min_samples_leaf=1,\n",
       "                      min_samples_split=2, min_weight_fraction_leaf=0.0,\n",
       "                      n_estimators=175, n_jobs=None, oob_score=False,\n",
       "                      random_state=42, verbose=0, warm_start=False)"
      ]
     },
     "execution_count": 18,
     "metadata": {},
     "output_type": "execute_result"
    }
   ],
   "source": [
    "#Random Forest Model\n",
    "from sklearn.ensemble import RandomForestRegressor\n",
    "forestModel = RandomForestRegressor(n_estimators = 175, max_depth = 15, random_state = 42)\n",
    "forestModel.fit(trainingData,trainingLabels)"
   ]
  },
  {
   "cell_type": "code",
   "execution_count": 19,
   "metadata": {},
   "outputs": [
    {
     "name": "stdout",
     "output_type": "stream",
     "text": [
      "115315.35983259075\n"
     ]
    }
   ],
   "source": [
    "forestTestPreds = forestModel.predict(testingData)\n",
    "forestMSE = mean_squared_error(forestTestPreds, testingLabels)\n",
    "print(np.sqrt(forestMSE))"
   ]
  },
  {
   "cell_type": "code",
   "execution_count": 20,
   "metadata": {},
   "outputs": [
    {
     "data": {
      "text/plain": [
       "GridSearchCV(cv=5, error_score=nan,\n",
       "             estimator=RandomForestRegressor(bootstrap=True, ccp_alpha=0.0,\n",
       "                                             criterion='mse', max_depth=None,\n",
       "                                             max_features='auto',\n",
       "                                             max_leaf_nodes=None,\n",
       "                                             max_samples=None,\n",
       "                                             min_impurity_decrease=0.0,\n",
       "                                             min_impurity_split=None,\n",
       "                                             min_samples_leaf=1,\n",
       "                                             min_samples_split=2,\n",
       "                                             min_weight_fraction_leaf=0.0,\n",
       "                                             n_estimators=100, n_jobs=None,\n",
       "                                             oob_score=False, random_state=42,\n",
       "                                             verbose=0, warm_start=False),\n",
       "             iid='deprecated', n_jobs=None,\n",
       "             param_grid=[{'max_depth': [15, 20, 25],\n",
       "                          'n_estimators': [150, 175, 200]}],\n",
       "             pre_dispatch='2*n_jobs', refit=True, return_train_score=True,\n",
       "             scoring='neg_mean_squared_error', verbose=0)"
      ]
     },
     "execution_count": 20,
     "metadata": {},
     "output_type": "execute_result"
    }
   ],
   "source": [
    "#Getting the best parameters for Random Forest Model through CrossValidation\n",
    "bestForestModel = RandomForestRegressor(random_state = 42)\n",
    "forestGrid = [\n",
    "    {\"n_estimators\" : [150,175,200], \"max_depth\" : [15,20,25]},\n",
    "]\n",
    "from sklearn.model_selection import GridSearchCV\n",
    "crossVal = GridSearchCV(bestForestModel, forestGrid, cv = 5, scoring = \"neg_mean_squared_error\", return_train_score = True)\n",
    "crossVal.fit(trainingData, trainingLabels)"
   ]
  },
  {
   "cell_type": "code",
   "execution_count": 21,
   "metadata": {},
   "outputs": [
    {
     "name": "stdout",
     "output_type": "stream",
     "text": [
      "114271.32356640314\n",
      "{'max_depth': 20, 'n_estimators': 150}\n"
     ]
    }
   ],
   "source": [
    "finalForestModel = crossVal.best_estimator_\n",
    "finalForestModel.fit(trainingData, trainingLabels)\n",
    "finalForestPreds = finalForestModel.predict(testingData)\n",
    "finalForestMSE = mean_squared_error(testingLabels, finalForestPreds)\n",
    "print(np.sqrt(finalForestMSE))\n",
    "print(crossVal.best_params_)"
   ]
  },
  {
   "cell_type": "code",
   "execution_count": 22,
   "metadata": {},
   "outputs": [
    {
     "data": {
      "text/plain": [
       "GradientBoostingRegressor(alpha=0.9, ccp_alpha=0.0, criterion='friedman_mse',\n",
       "                          init=None, learning_rate=1, loss='ls', max_depth=3,\n",
       "                          max_features=None, max_leaf_nodes=None,\n",
       "                          min_impurity_decrease=0.0, min_impurity_split=None,\n",
       "                          min_samples_leaf=1, min_samples_split=2,\n",
       "                          min_weight_fraction_leaf=0.0, n_estimators=150,\n",
       "                          n_iter_no_change=None, presort='deprecated',\n",
       "                          random_state=42, subsample=1.0, tol=0.0001,\n",
       "                          validation_fraction=0.1, verbose=0, warm_start=False)"
      ]
     },
     "execution_count": 22,
     "metadata": {},
     "output_type": "execute_result"
    }
   ],
   "source": [
    "#Gradiant Boost Model\n",
    "from sklearn.ensemble import GradientBoostingRegressor\n",
    "gbrModel = GradientBoostingRegressor(n_estimators = 150, learning_rate = 1, random_state = 42)\n",
    "gbrModel.fit(trainingData,trainingLabels)"
   ]
  },
  {
   "cell_type": "code",
   "execution_count": 23,
   "metadata": {},
   "outputs": [
    {
     "name": "stdout",
     "output_type": "stream",
     "text": [
      "131199.34349021292\n"
     ]
    }
   ],
   "source": [
    "gbrTestPreds = gbrModel.predict(testingData)\n",
    "gbrMSE = mean_squared_error(gbrTestPreds, testingLabels)\n",
    "print(np.sqrt(gbrMSE))"
   ]
  },
  {
   "cell_type": "code",
   "execution_count": 24,
   "metadata": {},
   "outputs": [
    {
     "data": {
      "text/plain": [
       "GridSearchCV(cv=5, error_score=nan,\n",
       "             estimator=GradientBoostingRegressor(alpha=0.9, ccp_alpha=0.0,\n",
       "                                                 criterion='friedman_mse',\n",
       "                                                 init=None, learning_rate=0.9,\n",
       "                                                 loss='ls', max_depth=3,\n",
       "                                                 max_features=None,\n",
       "                                                 max_leaf_nodes=None,\n",
       "                                                 min_impurity_decrease=0.0,\n",
       "                                                 min_impurity_split=None,\n",
       "                                                 min_samples_leaf=1,\n",
       "                                                 min_samples_split=2,\n",
       "                                                 min_weight_fraction_leaf=0.0,\n",
       "                                                 n_estimators=100,\n",
       "                                                 n_iter_no_change=None,\n",
       "                                                 presort='deprecated',\n",
       "                                                 random_state=42, subsample=1.0,\n",
       "                                                 tol=0.0001,\n",
       "                                                 validation_fraction=0.1,\n",
       "                                                 verbose=0, warm_start=False),\n",
       "             iid='deprecated', n_jobs=None,\n",
       "             param_grid=[{'n_estimators': [150, 200, 250]}],\n",
       "             pre_dispatch='2*n_jobs', refit=True, return_train_score=True,\n",
       "             scoring='neg_mean_squared_error', verbose=0)"
      ]
     },
     "execution_count": 24,
     "metadata": {},
     "output_type": "execute_result"
    }
   ],
   "source": [
    "#Getting the best parameters for Gradiant Boost Model through CrossValidation\n",
    "bestgbrModel = GradientBoostingRegressor(random_state = 42, learning_rate = 0.9)\n",
    "gbrGrid = [\n",
    "    {\"n_estimators\" : [150,200,250]},\n",
    "]\n",
    "from sklearn.model_selection import GridSearchCV\n",
    "crossVal = GridSearchCV(bestgbrModel, gbrGrid, cv = 5, scoring = \"neg_mean_squared_error\", return_train_score = True)\n",
    "crossVal.fit(trainingData, trainingLabels)"
   ]
  },
  {
   "cell_type": "code",
   "execution_count": 25,
   "metadata": {},
   "outputs": [
    {
     "name": "stdout",
     "output_type": "stream",
     "text": [
      "129550.57385298892\n",
      "{'n_estimators': 200}\n"
     ]
    }
   ],
   "source": [
    "finalgbrModel = crossVal.best_estimator_\n",
    "finalgbrModel.fit(trainingData, trainingLabels)\n",
    "finalgbrPreds = finalgbrModel.predict(testingData)\n",
    "finalgbrMSE = mean_squared_error(testingLabels, finalgbrPreds)\n",
    "print(np.sqrt(finalgbrMSE))\n",
    "print(crossVal.best_params_)"
   ]
  },
  {
   "cell_type": "code",
   "execution_count": 26,
   "metadata": {},
   "outputs": [
    {
     "data": {
      "text/plain": [
       "VotingRegressor(estimators=[('forest_model',\n",
       "                             RandomForestRegressor(bootstrap=True,\n",
       "                                                   ccp_alpha=0.0,\n",
       "                                                   criterion='mse',\n",
       "                                                   max_depth=20,\n",
       "                                                   max_features='auto',\n",
       "                                                   max_leaf_nodes=None,\n",
       "                                                   max_samples=None,\n",
       "                                                   min_impurity_decrease=0.0,\n",
       "                                                   min_impurity_split=None,\n",
       "                                                   min_samples_leaf=1,\n",
       "                                                   min_samples_split=2,\n",
       "                                                   min_weight_fraction_leaf=0.0,\n",
       "                                                   n_estimators=150,\n",
       "                                                   n_jobs=None, oob_score=False,\n",
       "                                                   random...\n",
       "                                                       loss='ls', max_depth=3,\n",
       "                                                       max_features=None,\n",
       "                                                       max_leaf_nodes=None,\n",
       "                                                       min_impurity_decrease=0.0,\n",
       "                                                       min_impurity_split=None,\n",
       "                                                       min_samples_leaf=1,\n",
       "                                                       min_samples_split=2,\n",
       "                                                       min_weight_fraction_leaf=0.0,\n",
       "                                                       n_estimators=200,\n",
       "                                                       n_iter_no_change=None,\n",
       "                                                       presort='deprecated',\n",
       "                                                       random_state=42,\n",
       "                                                       subsample=1.0,\n",
       "                                                       tol=0.0001,\n",
       "                                                       validation_fraction=0.1,\n",
       "                                                       verbose=0,\n",
       "                                                       warm_start=False))],\n",
       "                n_jobs=None, weights=None)"
      ]
     },
     "execution_count": 26,
     "metadata": {},
     "output_type": "execute_result"
    }
   ],
   "source": [
    "#Ensembling Random Forest and Gradiant Boost Model with best parameters\n",
    "from sklearn.ensemble import VotingRegressor\n",
    "forest_model = RandomForestRegressor(max_depth = 20, n_estimators = 150, random_state = 42)\n",
    "gbr_model = GradientBoostingRegressor(n_estimators = 200, learning_rate = 0.9, random_state = 42)\n",
    "votingModel = VotingRegressor([(\"forest_model\", forest_model),(\"gbr_model\", gbr_model)])\n",
    "votingModel.fit(trainingData,trainingLabels)"
   ]
  },
  {
   "cell_type": "code",
   "execution_count": 27,
   "metadata": {},
   "outputs": [
    {
     "name": "stdout",
     "output_type": "stream",
     "text": [
      "106691.05468646041\n"
     ]
    }
   ],
   "source": [
    "votingTestPreds = votingModel.predict(testingData)\n",
    "votingMSE = mean_squared_error(votingTestPreds, testingLabels)\n",
    "print(np.sqrt(votingMSE))"
   ]
  },
  {
   "cell_type": "code",
   "execution_count": 28,
   "metadata": {},
   "outputs": [],
   "source": [
    "#NeuralNetwork\n",
    "model = keras.models.Sequential([\n",
    "    keras.layers.Dense(128, input_dim = len(trainingData.columns), activation='relu'),\n",
    "    keras.layers.Dense(128, activation='relu'),\n",
    "    keras.layers.Dense(128, activation='relu'),\n",
    "    keras.layers.Dense(1, activation ='relu'),\n",
    "])"
   ]
  },
  {
   "cell_type": "code",
   "execution_count": 29,
   "metadata": {},
   "outputs": [
    {
     "name": "stdout",
     "output_type": "stream",
     "text": [
      "Epoch 1/100\n",
      "198/198 [==============================] - 1s 3ms/step - loss: 878444.2500 - val_loss: 887047.9375\n",
      "Epoch 2/100\n",
      "198/198 [==============================] - 0s 2ms/step - loss: 647510.2500 - val_loss: 665672.0000\n",
      "Epoch 3/100\n",
      "198/198 [==============================] - 0s 2ms/step - loss: 573120.6875 - val_loss: 632064.7500\n",
      "Epoch 4/100\n",
      "198/198 [==============================] - 0s 2ms/step - loss: 563862.3125 - val_loss: 610190.6250\n",
      "Epoch 5/100\n",
      "198/198 [==============================] - 0s 2ms/step - loss: 543001.8125 - val_loss: 595974.4375\n",
      "Epoch 6/100\n",
      "198/198 [==============================] - 0s 2ms/step - loss: 522590.2500 - val_loss: 569719.4375\n",
      "Epoch 7/100\n",
      "198/198 [==============================] - 0s 2ms/step - loss: 506413.6250 - val_loss: 551982.0000\n",
      "Epoch 8/100\n",
      "198/198 [==============================] - 0s 2ms/step - loss: 491736.7500 - val_loss: 545931.9375\n",
      "Epoch 9/100\n",
      "198/198 [==============================] - 0s 2ms/step - loss: 481458.6875 - val_loss: 556991.9375\n",
      "Epoch 10/100\n",
      "198/198 [==============================] - 0s 2ms/step - loss: 471572.0312 - val_loss: 503223.3125\n",
      "Epoch 11/100\n",
      "198/198 [==============================] - 0s 2ms/step - loss: 458889.1250 - val_loss: 496755.2188\n",
      "Epoch 12/100\n",
      "198/198 [==============================] - 0s 2ms/step - loss: 455275.6875 - val_loss: 486386.9062\n",
      "Epoch 13/100\n",
      "198/198 [==============================] - 0s 2ms/step - loss: 451216.9062 - val_loss: 486496.1562\n",
      "Epoch 14/100\n",
      "198/198 [==============================] - 0s 2ms/step - loss: 448609.6250 - val_loss: 474783.6875\n",
      "Epoch 15/100\n",
      "198/198 [==============================] - 0s 2ms/step - loss: 439331.0938 - val_loss: 469326.5625\n",
      "Epoch 16/100\n",
      "198/198 [==============================] - 0s 2ms/step - loss: 431609.9688 - val_loss: 459771.8750\n",
      "Epoch 17/100\n",
      "198/198 [==============================] - 0s 2ms/step - loss: 434884.4688 - val_loss: 468955.6562\n",
      "Epoch 18/100\n",
      "198/198 [==============================] - 0s 2ms/step - loss: 429735.0312 - val_loss: 451077.6250\n",
      "Epoch 19/100\n",
      "198/198 [==============================] - 0s 2ms/step - loss: 422065.9375 - val_loss: 443591.5938\n",
      "Epoch 20/100\n",
      "198/198 [==============================] - 0s 2ms/step - loss: 418452.7500 - val_loss: 450333.7812\n",
      "Epoch 21/100\n",
      "198/198 [==============================] - 0s 2ms/step - loss: 416932.7812 - val_loss: 442791.6562\n",
      "Epoch 22/100\n",
      "198/198 [==============================] - 0s 2ms/step - loss: 408112.5625 - val_loss: 443637.9375\n",
      "Epoch 23/100\n",
      "198/198 [==============================] - 0s 2ms/step - loss: 412371.5625 - val_loss: 439138.1562\n",
      "Epoch 24/100\n",
      "198/198 [==============================] - 0s 2ms/step - loss: 401372.3438 - val_loss: 438132.5000\n",
      "Epoch 25/100\n",
      "198/198 [==============================] - 0s 2ms/step - loss: 398724.5938 - val_loss: 413677.0312\n",
      "Epoch 26/100\n",
      "198/198 [==============================] - 0s 2ms/step - loss: 396258.7812 - val_loss: 407909.1250\n",
      "Epoch 27/100\n",
      "198/198 [==============================] - 0s 2ms/step - loss: 394739.4375 - val_loss: 411387.3438\n",
      "Epoch 28/100\n",
      "198/198 [==============================] - 0s 2ms/step - loss: 388428.5312 - val_loss: 400210.8125\n",
      "Epoch 29/100\n",
      "198/198 [==============================] - 0s 2ms/step - loss: 384095.5312 - val_loss: 395258.8125\n",
      "Epoch 30/100\n",
      "198/198 [==============================] - 0s 2ms/step - loss: 378852.4688 - val_loss: 386856.4062\n",
      "Epoch 31/100\n",
      "198/198 [==============================] - 0s 2ms/step - loss: 375802.6875 - val_loss: 386025.7812\n",
      "Epoch 32/100\n",
      "198/198 [==============================] - 0s 2ms/step - loss: 365676.7812 - val_loss: 391446.6250\n",
      "Epoch 33/100\n",
      "198/198 [==============================] - 0s 2ms/step - loss: 361337.5938 - val_loss: 438527.0625\n",
      "Epoch 34/100\n",
      "198/198 [==============================] - 0s 2ms/step - loss: 362375.2188 - val_loss: 364263.1562\n",
      "Epoch 35/100\n",
      "198/198 [==============================] - 0s 2ms/step - loss: 347095.7812 - val_loss: 360678.8750\n",
      "Epoch 36/100\n",
      "198/198 [==============================] - 0s 2ms/step - loss: 341838.6562 - val_loss: 356374.7812\n",
      "Epoch 37/100\n",
      "198/198 [==============================] - 0s 2ms/step - loss: 335559.1562 - val_loss: 337918.9375\n",
      "Epoch 38/100\n",
      "198/198 [==============================] - 0s 2ms/step - loss: 334951.2500 - val_loss: 330694.0938\n",
      "Epoch 39/100\n",
      "198/198 [==============================] - 0s 2ms/step - loss: 339010.5625 - val_loss: 354132.8750\n",
      "Epoch 40/100\n",
      "198/198 [==============================] - 0s 2ms/step - loss: 327558.9688 - val_loss: 320776.5312\n",
      "Epoch 41/100\n",
      "198/198 [==============================] - 0s 2ms/step - loss: 322750.0312 - val_loss: 321131.0625\n",
      "Epoch 42/100\n",
      "198/198 [==============================] - 0s 2ms/step - loss: 318050.4688 - val_loss: 330104.0000\n",
      "Epoch 43/100\n",
      "198/198 [==============================] - 0s 2ms/step - loss: 322152.3125 - val_loss: 318985.8750\n",
      "Epoch 44/100\n",
      "198/198 [==============================] - 0s 2ms/step - loss: 318620.2188 - val_loss: 349698.3438\n",
      "Epoch 45/100\n",
      "198/198 [==============================] - 0s 2ms/step - loss: 311909.0312 - val_loss: 318104.2188\n",
      "Epoch 46/100\n",
      "198/198 [==============================] - 0s 2ms/step - loss: 309375.2500 - val_loss: 307640.8750\n",
      "Epoch 47/100\n",
      "198/198 [==============================] - 0s 2ms/step - loss: 299455.4375 - val_loss: 321384.8125\n",
      "Epoch 48/100\n",
      "198/198 [==============================] - 0s 2ms/step - loss: 301044.1562 - val_loss: 327656.4062\n",
      "Epoch 49/100\n",
      "198/198 [==============================] - 0s 2ms/step - loss: 296023.2188 - val_loss: 295185.1875\n",
      "Epoch 50/100\n",
      "198/198 [==============================] - 0s 2ms/step - loss: 295411.2500 - val_loss: 299242.6875\n",
      "Epoch 51/100\n",
      "198/198 [==============================] - 0s 2ms/step - loss: 298644.2812 - val_loss: 309229.9062\n",
      "Epoch 52/100\n",
      "198/198 [==============================] - 0s 2ms/step - loss: 293978.9062 - val_loss: 332225.0000\n",
      "Epoch 53/100\n",
      "198/198 [==============================] - 0s 2ms/step - loss: 293830.9375 - val_loss: 300757.1875\n",
      "Epoch 54/100\n",
      "198/198 [==============================] - 0s 2ms/step - loss: 285967.7188 - val_loss: 289987.1875\n",
      "Epoch 55/100\n",
      "198/198 [==============================] - 0s 2ms/step - loss: 286140.4062 - val_loss: 300254.4688\n",
      "Epoch 56/100\n",
      "198/198 [==============================] - 0s 2ms/step - loss: 304670.2188 - val_loss: 311799.1875\n",
      "Epoch 57/100\n",
      "198/198 [==============================] - 0s 2ms/step - loss: 290721.1562 - val_loss: 350387.7812\n",
      "Epoch 58/100\n",
      "198/198 [==============================] - 0s 2ms/step - loss: 293640.3438 - val_loss: 323456.0625\n",
      "Epoch 59/100\n",
      "198/198 [==============================] - 0s 2ms/step - loss: 283251.9688 - val_loss: 323075.7500\n",
      "Epoch 60/100\n",
      "198/198 [==============================] - 0s 2ms/step - loss: 286285.0000 - val_loss: 292897.9375\n",
      "Epoch 61/100\n",
      "198/198 [==============================] - 0s 2ms/step - loss: 282046.7812 - val_loss: 294753.0938\n",
      "Epoch 62/100\n",
      "198/198 [==============================] - 0s 2ms/step - loss: 288977.6250 - val_loss: 282854.0625\n",
      "Epoch 63/100\n",
      "198/198 [==============================] - 0s 2ms/step - loss: 287858.0000 - val_loss: 293374.4688\n",
      "Epoch 64/100\n",
      "198/198 [==============================] - 0s 2ms/step - loss: 283613.6250 - val_loss: 300889.7188\n",
      "Epoch 65/100\n",
      "198/198 [==============================] - 0s 2ms/step - loss: 283470.7500 - val_loss: 287414.6250\n",
      "Epoch 66/100\n",
      "198/198 [==============================] - 0s 2ms/step - loss: 280463.8125 - val_loss: 287347.5312\n",
      "Epoch 67/100\n",
      "198/198 [==============================] - 0s 2ms/step - loss: 281926.6875 - val_loss: 281898.5625\n",
      "Epoch 68/100\n",
      "198/198 [==============================] - 0s 2ms/step - loss: 282811.9375 - val_loss: 291395.6875\n",
      "Epoch 69/100\n",
      "198/198 [==============================] - 0s 2ms/step - loss: 277401.8750 - val_loss: 285222.5938\n",
      "Epoch 70/100\n",
      "198/198 [==============================] - 0s 2ms/step - loss: 277879.2812 - val_loss: 341463.1875\n",
      "Epoch 71/100\n",
      "198/198 [==============================] - 0s 2ms/step - loss: 285863.7812 - val_loss: 275962.2812\n",
      "Epoch 72/100\n",
      "198/198 [==============================] - 0s 2ms/step - loss: 279863.8750 - val_loss: 286773.3750\n",
      "Epoch 73/100\n",
      "198/198 [==============================] - 0s 2ms/step - loss: 278907.1875 - val_loss: 290154.5000\n",
      "Epoch 74/100\n",
      "198/198 [==============================] - 0s 2ms/step - loss: 275196.5312 - val_loss: 270723.8125\n",
      "Epoch 75/100\n",
      "198/198 [==============================] - 0s 2ms/step - loss: 271552.5625 - val_loss: 275392.4375\n",
      "Epoch 76/100\n",
      "198/198 [==============================] - 0s 2ms/step - loss: 276274.5625 - val_loss: 274186.9062\n",
      "Epoch 77/100\n",
      "198/198 [==============================] - 0s 2ms/step - loss: 277018.5000 - val_loss: 271060.9062\n",
      "Epoch 78/100\n",
      "198/198 [==============================] - 0s 2ms/step - loss: 278048.5312 - val_loss: 277902.0938\n",
      "Epoch 79/100\n",
      "198/198 [==============================] - 0s 2ms/step - loss: 272796.1562 - val_loss: 281683.4375\n",
      "Epoch 80/100\n",
      "198/198 [==============================] - 0s 2ms/step - loss: 276514.2188 - val_loss: 287227.3125\n",
      "Epoch 81/100\n",
      "198/198 [==============================] - 0s 2ms/step - loss: 276207.5938 - val_loss: 276138.0000\n",
      "Epoch 82/100\n",
      "198/198 [==============================] - 0s 2ms/step - loss: 271955.4375 - val_loss: 284165.0625\n",
      "Epoch 83/100\n",
      "198/198 [==============================] - 0s 2ms/step - loss: 274793.5625 - val_loss: 294811.6562\n",
      "Epoch 84/100\n",
      "198/198 [==============================] - 0s 2ms/step - loss: 273544.1875 - val_loss: 284129.6875\n",
      "Epoch 85/100\n",
      "198/198 [==============================] - 0s 2ms/step - loss: 270912.8750 - val_loss: 269198.0938\n",
      "Epoch 86/100\n",
      "198/198 [==============================] - 0s 2ms/step - loss: 266310.6250 - val_loss: 271210.5000\n",
      "Epoch 87/100\n",
      "198/198 [==============================] - 0s 2ms/step - loss: 265284.8125 - val_loss: 279363.9688\n",
      "Epoch 88/100\n",
      "198/198 [==============================] - 0s 2ms/step - loss: 268296.4062 - val_loss: 280702.3438\n",
      "Epoch 89/100\n",
      "198/198 [==============================] - 0s 2ms/step - loss: 267359.3438 - val_loss: 265965.9375\n",
      "Epoch 90/100\n",
      "198/198 [==============================] - 0s 2ms/step - loss: 273609.0938 - val_loss: 261033.3438\n",
      "Epoch 91/100\n",
      "198/198 [==============================] - 0s 2ms/step - loss: 265420.3750 - val_loss: 282747.6562\n",
      "Epoch 92/100\n",
      "198/198 [==============================] - 0s 2ms/step - loss: 268516.0000 - val_loss: 284636.6250\n",
      "Epoch 93/100\n",
      "198/198 [==============================] - 0s 2ms/step - loss: 265091.6250 - val_loss: 270378.5000\n",
      "Epoch 94/100\n",
      "198/198 [==============================] - 0s 2ms/step - loss: 266583.0312 - val_loss: 263418.1875\n",
      "Epoch 95/100\n",
      "198/198 [==============================] - 0s 2ms/step - loss: 262802.4062 - val_loss: 274658.5938\n",
      "Epoch 96/100\n",
      "198/198 [==============================] - 0s 2ms/step - loss: 265738.3750 - val_loss: 257566.6875\n",
      "Epoch 97/100\n",
      "198/198 [==============================] - 0s 2ms/step - loss: 263549.3438 - val_loss: 258114.8906\n",
      "Epoch 98/100\n",
      "198/198 [==============================] - 0s 2ms/step - loss: 267268.5625 - val_loss: 261560.5000\n",
      "Epoch 99/100\n",
      "198/198 [==============================] - 0s 2ms/step - loss: 268251.2812 - val_loss: 282740.5000\n",
      "Epoch 100/100\n",
      "198/198 [==============================] - 0s 2ms/step - loss: 263098.8438 - val_loss: 267425.0000\n"
     ]
    }
   ],
   "source": [
    "def root_mean_squared_error(y_true, y_pred):\n",
    "    return tf.math.sqrt(tf.math.reduce_mean(tf.math.square(y_pred - y_true)))\n",
    "\n",
    "trainingLabelsF = trainingLabels.astype(float)\n",
    "testingLabelsF = testingLabels.astype(float)\n",
    "\n",
    "model.compile(optimizer = keras.optimizers.Adam(), loss = root_mean_squared_error)\n",
    "history = model.fit(trainingData, trainingLabelsF, epochs = 100, validation_data = (testingData, testingLabelsF))"
   ]
  },
  {
   "cell_type": "code",
   "execution_count": 30,
   "metadata": {},
   "outputs": [],
   "source": [
    "from sklearn.preprocessing import StandardScaler\n",
    "scaler = StandardScaler()\n",
    "trainingDataScaled = scaler.fit_transform(trainingData)\n",
    "testingDataScaled = scaler.fit_transform(testingData)"
   ]
  },
  {
   "cell_type": "code",
   "execution_count": 31,
   "metadata": {},
   "outputs": [],
   "source": [
    "#NeuralNetwork for scaledData\n",
    "modelScaled = keras.models.Sequential([\n",
    "    keras.layers.Dense(128, input_dim = len(trainingData.columns), activation='relu'),\n",
    "    keras.layers.Dense(128, activation='relu'),\n",
    "    keras.layers.Dense(128, activation='relu'),\n",
    "    keras.layers.Dense(1, activation ='relu'),\n",
    "])"
   ]
  },
  {
   "cell_type": "code",
   "execution_count": 32,
   "metadata": {},
   "outputs": [
    {
     "name": "stdout",
     "output_type": "stream",
     "text": [
      "Epoch 1/100\n",
      "198/198 [==============================] - 1s 3ms/step - loss: 961215.3750 - val_loss: 934192.8750\n",
      "Epoch 2/100\n",
      "198/198 [==============================] - 0s 2ms/step - loss: 567437.8125 - val_loss: 444146.6875\n",
      "Epoch 3/100\n",
      "198/198 [==============================] - 0s 2ms/step - loss: 365805.6250 - val_loss: 357838.4688\n",
      "Epoch 4/100\n",
      "198/198 [==============================] - 0s 2ms/step - loss: 312514.1562 - val_loss: 311179.9062\n",
      "Epoch 5/100\n",
      "198/198 [==============================] - 0s 2ms/step - loss: 280988.4688 - val_loss: 277411.9375\n",
      "Epoch 6/100\n",
      "198/198 [==============================] - 0s 2ms/step - loss: 255184.9688 - val_loss: 252823.0781\n",
      "Epoch 7/100\n",
      "198/198 [==============================] - 0s 2ms/step - loss: 242338.0938 - val_loss: 243410.6719\n",
      "Epoch 8/100\n",
      "198/198 [==============================] - 0s 2ms/step - loss: 235082.8125 - val_loss: 245011.9844\n",
      "Epoch 9/100\n",
      "198/198 [==============================] - 0s 2ms/step - loss: 231848.3750 - val_loss: 232422.3750\n",
      "Epoch 10/100\n",
      "198/198 [==============================] - 0s 2ms/step - loss: 228941.6250 - val_loss: 225043.2188\n",
      "Epoch 11/100\n",
      "198/198 [==============================] - 0s 2ms/step - loss: 223908.2188 - val_loss: 220654.3281\n",
      "Epoch 12/100\n",
      "198/198 [==============================] - 0s 2ms/step - loss: 218870.4844 - val_loss: 211897.2031\n",
      "Epoch 13/100\n",
      "198/198 [==============================] - 0s 2ms/step - loss: 217514.8281 - val_loss: 213817.8125\n",
      "Epoch 14/100\n",
      "198/198 [==============================] - 0s 2ms/step - loss: 216628.5625 - val_loss: 204741.1719\n",
      "Epoch 15/100\n",
      "198/198 [==============================] - 0s 2ms/step - loss: 216083.5938 - val_loss: 206402.3438\n",
      "Epoch 16/100\n",
      "198/198 [==============================] - 0s 2ms/step - loss: 209522.5469 - val_loss: 201837.2344\n",
      "Epoch 17/100\n",
      "198/198 [==============================] - 0s 2ms/step - loss: 210768.4062 - val_loss: 200437.1719\n",
      "Epoch 18/100\n",
      "198/198 [==============================] - 0s 2ms/step - loss: 207401.0781 - val_loss: 197980.0156\n",
      "Epoch 19/100\n",
      "198/198 [==============================] - 0s 2ms/step - loss: 208594.0156 - val_loss: 196744.9375\n",
      "Epoch 20/100\n",
      "198/198 [==============================] - 0s 2ms/step - loss: 204994.6875 - val_loss: 194992.6250\n",
      "Epoch 21/100\n",
      "198/198 [==============================] - 0s 2ms/step - loss: 204596.1719 - val_loss: 194894.3594\n",
      "Epoch 22/100\n",
      "198/198 [==============================] - 0s 2ms/step - loss: 200671.7656 - val_loss: 193261.5938\n",
      "Epoch 23/100\n",
      "198/198 [==============================] - 0s 2ms/step - loss: 199700.7969 - val_loss: 190124.1406\n",
      "Epoch 24/100\n",
      "198/198 [==============================] - 0s 2ms/step - loss: 201261.0000 - val_loss: 189175.6875\n",
      "Epoch 25/100\n",
      "198/198 [==============================] - 0s 2ms/step - loss: 199437.8594 - val_loss: 194995.9844\n",
      "Epoch 26/100\n",
      "198/198 [==============================] - 0s 2ms/step - loss: 198089.7500 - val_loss: 187172.2344\n",
      "Epoch 27/100\n",
      "198/198 [==============================] - 0s 2ms/step - loss: 196825.6094 - val_loss: 186158.7500\n",
      "Epoch 28/100\n",
      "198/198 [==============================] - 0s 2ms/step - loss: 195025.4688 - val_loss: 185701.8281\n",
      "Epoch 29/100\n",
      "198/198 [==============================] - 0s 2ms/step - loss: 194438.8594 - val_loss: 184901.1719\n",
      "Epoch 30/100\n",
      "198/198 [==============================] - 0s 2ms/step - loss: 191955.0469 - val_loss: 182245.5469\n",
      "Epoch 31/100\n",
      "198/198 [==============================] - 0s 2ms/step - loss: 191678.1719 - val_loss: 183355.1719\n",
      "Epoch 32/100\n",
      "198/198 [==============================] - 0s 2ms/step - loss: 189165.3750 - val_loss: 183386.7031\n",
      "Epoch 33/100\n",
      "198/198 [==============================] - 0s 2ms/step - loss: 187844.5000 - val_loss: 182324.5469\n",
      "Epoch 34/100\n",
      "198/198 [==============================] - 0s 2ms/step - loss: 185844.5000 - val_loss: 182200.7031\n",
      "Epoch 35/100\n",
      "198/198 [==============================] - 0s 2ms/step - loss: 186558.6562 - val_loss: 182214.8594\n",
      "Epoch 36/100\n",
      "198/198 [==============================] - 0s 2ms/step - loss: 185618.5156 - val_loss: 180641.0469\n",
      "Epoch 37/100\n",
      "198/198 [==============================] - 0s 2ms/step - loss: 182174.5312 - val_loss: 178763.1406\n",
      "Epoch 38/100\n",
      "198/198 [==============================] - 1s 3ms/step - loss: 181889.0938 - val_loss: 180287.1719\n",
      "Epoch 39/100\n",
      "198/198 [==============================] - 1s 4ms/step - loss: 182120.0469 - val_loss: 179146.2344\n",
      "Epoch 40/100\n",
      "198/198 [==============================] - 1s 3ms/step - loss: 179608.5469 - val_loss: 177837.2344\n",
      "Epoch 41/100\n",
      "198/198 [==============================] - 0s 2ms/step - loss: 177760.5469 - val_loss: 176663.2344\n",
      "Epoch 42/100\n",
      "198/198 [==============================] - 0s 2ms/step - loss: 177134.4688 - val_loss: 175465.0781\n",
      "Epoch 43/100\n",
      "198/198 [==============================] - 0s 2ms/step - loss: 176167.1562 - val_loss: 178323.3906\n",
      "Epoch 44/100\n",
      "198/198 [==============================] - 0s 2ms/step - loss: 176409.9062 - val_loss: 176952.7656\n",
      "Epoch 45/100\n",
      "198/198 [==============================] - 0s 2ms/step - loss: 174509.5156 - val_loss: 173969.5625\n",
      "Epoch 46/100\n",
      "198/198 [==============================] - 0s 2ms/step - loss: 170629.0156 - val_loss: 173002.0938\n",
      "Epoch 47/100\n",
      "198/198 [==============================] - 0s 2ms/step - loss: 171556.5625 - val_loss: 173396.2500\n",
      "Epoch 48/100\n",
      "198/198 [==============================] - 0s 2ms/step - loss: 171140.9219 - val_loss: 172225.7344\n",
      "Epoch 49/100\n",
      "198/198 [==============================] - 0s 2ms/step - loss: 168606.7656 - val_loss: 173055.8750\n",
      "Epoch 50/100\n",
      "198/198 [==============================] - 0s 2ms/step - loss: 169009.3750 - val_loss: 171359.1875\n",
      "Epoch 51/100\n",
      "198/198 [==============================] - 0s 2ms/step - loss: 166922.8906 - val_loss: 174947.3125\n",
      "Epoch 52/100\n",
      "198/198 [==============================] - 0s 2ms/step - loss: 166461.9375 - val_loss: 170778.1562\n",
      "Epoch 53/100\n",
      "198/198 [==============================] - 0s 2ms/step - loss: 166180.3906 - val_loss: 171941.5781\n",
      "Epoch 54/100\n",
      "198/198 [==============================] - 0s 2ms/step - loss: 163642.4844 - val_loss: 169258.0625\n",
      "Epoch 55/100\n",
      "198/198 [==============================] - 0s 2ms/step - loss: 163561.2812 - val_loss: 168060.2188\n",
      "Epoch 56/100\n",
      "198/198 [==============================] - 0s 2ms/step - loss: 161159.4531 - val_loss: 170231.7031\n",
      "Epoch 57/100\n",
      "198/198 [==============================] - 0s 2ms/step - loss: 160050.7188 - val_loss: 169784.2656\n",
      "Epoch 58/100\n",
      "198/198 [==============================] - 0s 2ms/step - loss: 160122.5625 - val_loss: 169052.7969\n",
      "Epoch 59/100\n",
      "198/198 [==============================] - 0s 2ms/step - loss: 158488.1875 - val_loss: 166577.9375\n",
      "Epoch 60/100\n",
      "198/198 [==============================] - 0s 2ms/step - loss: 156398.8281 - val_loss: 168149.4219\n",
      "Epoch 61/100\n",
      "198/198 [==============================] - 0s 2ms/step - loss: 156235.6875 - val_loss: 164076.3125\n",
      "Epoch 62/100\n",
      "198/198 [==============================] - 0s 2ms/step - loss: 156520.8750 - val_loss: 164585.2812\n",
      "Epoch 63/100\n",
      "198/198 [==============================] - 0s 2ms/step - loss: 154869.0156 - val_loss: 166895.4844\n",
      "Epoch 64/100\n",
      "198/198 [==============================] - 0s 2ms/step - loss: 155829.7188 - val_loss: 164364.1250\n",
      "Epoch 65/100\n",
      "198/198 [==============================] - 0s 2ms/step - loss: 152322.1562 - val_loss: 163720.9531\n",
      "Epoch 66/100\n",
      "198/198 [==============================] - 0s 2ms/step - loss: 152396.3281 - val_loss: 162746.2344\n",
      "Epoch 67/100\n",
      "198/198 [==============================] - 0s 2ms/step - loss: 149848.5312 - val_loss: 162861.5156\n",
      "Epoch 68/100\n",
      "198/198 [==============================] - 0s 2ms/step - loss: 150148.9219 - val_loss: 165020.8750\n",
      "Epoch 69/100\n",
      "198/198 [==============================] - 0s 2ms/step - loss: 149602.0312 - val_loss: 162231.9062\n",
      "Epoch 70/100\n",
      "198/198 [==============================] - 0s 2ms/step - loss: 149364.1875 - val_loss: 164374.8125\n",
      "Epoch 71/100\n",
      "198/198 [==============================] - 0s 2ms/step - loss: 147871.7812 - val_loss: 159421.8750\n",
      "Epoch 72/100\n",
      "198/198 [==============================] - 0s 2ms/step - loss: 147035.2656 - val_loss: 159749.4688\n",
      "Epoch 73/100\n",
      "198/198 [==============================] - 0s 2ms/step - loss: 146752.2656 - val_loss: 161198.0000\n",
      "Epoch 74/100\n",
      "198/198 [==============================] - 0s 2ms/step - loss: 146468.7656 - val_loss: 160313.4219\n",
      "Epoch 75/100\n",
      "198/198 [==============================] - 0s 2ms/step - loss: 145739.3594 - val_loss: 161128.7031\n",
      "Epoch 76/100\n",
      "198/198 [==============================] - 0s 2ms/step - loss: 143887.8906 - val_loss: 158280.4219\n",
      "Epoch 77/100\n",
      "198/198 [==============================] - 0s 2ms/step - loss: 145061.4688 - val_loss: 156035.9375\n",
      "Epoch 78/100\n",
      "198/198 [==============================] - 0s 2ms/step - loss: 144255.8750 - val_loss: 158056.6094\n",
      "Epoch 79/100\n",
      "198/198 [==============================] - 0s 2ms/step - loss: 142876.4219 - val_loss: 158035.6562\n",
      "Epoch 80/100\n",
      "198/198 [==============================] - 0s 2ms/step - loss: 141956.4375 - val_loss: 158291.1719\n",
      "Epoch 81/100\n",
      "198/198 [==============================] - 0s 2ms/step - loss: 140440.2188 - val_loss: 159447.9219\n",
      "Epoch 82/100\n",
      "198/198 [==============================] - 0s 2ms/step - loss: 140469.0000 - val_loss: 155052.4375\n",
      "Epoch 83/100\n",
      "198/198 [==============================] - 0s 2ms/step - loss: 141205.4844 - val_loss: 155779.6875\n",
      "Epoch 84/100\n",
      "198/198 [==============================] - 0s 2ms/step - loss: 139692.4375 - val_loss: 156687.5469\n",
      "Epoch 85/100\n",
      "198/198 [==============================] - 0s 2ms/step - loss: 139273.2656 - val_loss: 158392.8594\n",
      "Epoch 86/100\n",
      "198/198 [==============================] - 0s 2ms/step - loss: 139225.1875 - val_loss: 154712.3906\n",
      "Epoch 87/100\n",
      "198/198 [==============================] - 0s 2ms/step - loss: 138530.4688 - val_loss: 156328.9844\n",
      "Epoch 88/100\n",
      "198/198 [==============================] - 0s 2ms/step - loss: 136905.6875 - val_loss: 160316.5312\n",
      "Epoch 89/100\n",
      "198/198 [==============================] - 0s 2ms/step - loss: 136329.8906 - val_loss: 158374.0000\n",
      "Epoch 90/100\n",
      "198/198 [==============================] - 0s 2ms/step - loss: 136984.1562 - val_loss: 155850.6719\n",
      "Epoch 91/100\n",
      "198/198 [==============================] - 0s 2ms/step - loss: 136918.3750 - val_loss: 156075.2188\n",
      "Epoch 92/100\n",
      "198/198 [==============================] - 0s 2ms/step - loss: 136628.5469 - val_loss: 159343.4219\n",
      "Epoch 93/100\n",
      "198/198 [==============================] - 0s 2ms/step - loss: 135710.2969 - val_loss: 156784.7344\n",
      "Epoch 94/100\n",
      "198/198 [==============================] - 0s 2ms/step - loss: 134421.8281 - val_loss: 155045.9531\n",
      "Epoch 95/100\n",
      "198/198 [==============================] - 0s 2ms/step - loss: 134158.4375 - val_loss: 154336.9062\n",
      "Epoch 96/100\n",
      "198/198 [==============================] - 0s 2ms/step - loss: 135221.5000 - val_loss: 155513.0938\n",
      "Epoch 97/100\n",
      "198/198 [==============================] - 0s 2ms/step - loss: 135452.4688 - val_loss: 153848.4375\n",
      "Epoch 98/100\n",
      "198/198 [==============================] - 0s 2ms/step - loss: 133336.0625 - val_loss: 156771.2031\n",
      "Epoch 99/100\n",
      "198/198 [==============================] - 0s 2ms/step - loss: 132829.4531 - val_loss: 154085.8281\n",
      "Epoch 100/100\n",
      "198/198 [==============================] - 0s 2ms/step - loss: 133098.3906 - val_loss: 155076.7656\n"
     ]
    }
   ],
   "source": [
    "modelScaled.compile(optimizer = keras.optimizers.Adam(), loss = root_mean_squared_error)\n",
    "history = modelScaled.fit(trainingDataScaled, trainingLabelsF, epochs = 100, validation_data = (testingDataScaled, testingLabelsF))"
   ]
  },
  {
   "cell_type": "code",
   "execution_count": 33,
   "metadata": {},
   "outputs": [
    {
     "data": {
      "image/png": "[encoded data removed]",
      "text/plain": [
       "<Figure size 432x288 with 1 Axes>"
      ]
     },
     "metadata": {
      "needs_background": "light"
     },
     "output_type": "display_data"
    }
   ],
   "source": [
    "loss = history.history[\"loss\"]\n",
    "valLoss = history.history[\"val_loss\"]\n",
    "epochs = range(1,len(loss) + 1)\n",
    "plt.plot(epochs, loss, \"b\")\n",
    "plt.plot(epochs, valLoss, \"r\")\n",
    "plt.xlabel(\"Epochs\")\n",
    "plt.ylabel(\"Loss\")\n",
    "plt.legend([\"Training Loss\",\"Validation Loss\"])\n",
    "plt.show()"
   ]
  },
  {
   "cell_type": "code",
   "execution_count": null,
   "metadata": {},
   "outputs": [],
   "source": []
  }
 ],
 "metadata": {
  "kernelspec": {
   "display_name": "tensorflow2",
   "language": "python",
   "name": "tensorflow2"
  },
  "language_info": {
   "codemirror_mode": {
    "name": "ipython",
    "version": 3
   },
   "file_extension": ".py",
   "mimetype": "text/x-python",
   "name": "python",
   "nbconvert_exporter": "python",
   "pygments_lexer": "ipython3",
   "version": "3.6.8"
  },
  "toc": {
   "base_numbering": 1,
   "nav_menu": {},
   "number_sections": true,
   "sideBar": true,
   "skip_h1_title": false,
   "title_cell": "Table of Contents",
   "title_sidebar": "Contents",
   "toc_cell": false,
   "toc_position": {},
   "toc_section_display": true,
   "toc_window_display": false
  }
 },
 "nbformat": 4,
 "nbformat_minor": 2
}
